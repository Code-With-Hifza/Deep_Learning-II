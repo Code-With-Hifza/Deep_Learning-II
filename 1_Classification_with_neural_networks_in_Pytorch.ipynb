{
  "nbformat": 4,
  "nbformat_minor": 0,
  "metadata": {
    "colab": {
      "provenance": []
    },
    "kernelspec": {
      "name": "python3",
      "display_name": "Python 3"
    },
    "language_info": {
      "name": "python"
    }
  },
  "cells": [
    {
      "cell_type": "code",
      "execution_count": 1,
      "metadata": {
        "id": "RjioGxXhwmCa"
      },
      "outputs": [],
      "source": [
        "import torch\n",
        "import torch.nn as nn\n",
        "from torch.utils.data import DataLoader\n",
        "from torchvision import datasets,transforms\n",
        "import matplotlib.pyplot as plt"
      ]
    },
    {
      "cell_type": "code",
      "source": [
        "train_dataset=datasets.FashionMNIST(root='dataset',train=True,transform=transforms.ToTensor(),download=True)\n",
        "test_dataset=datasets.FashionMNIST(root='dataset',train=False,transform=transforms.ToTensor())"
      ],
      "metadata": {
        "colab": {
          "base_uri": "https://localhost:8080/"
        },
        "id": "AnTuGBS7xRuY",
        "outputId": "5b2e44ca-e229-47c7-c5a6-0976fc5c1b91"
      },
      "execution_count": 2,
      "outputs": [
        {
          "output_type": "stream",
          "name": "stdout",
          "text": [
            "Downloading http://fashion-mnist.s3-website.eu-central-1.amazonaws.com/train-images-idx3-ubyte.gz\n",
            "Downloading http://fashion-mnist.s3-website.eu-central-1.amazonaws.com/train-images-idx3-ubyte.gz to dataset/FashionMNIST/raw/train-images-idx3-ubyte.gz\n"
          ]
        },
        {
          "output_type": "stream",
          "name": "stderr",
          "text": [
            "100%|██████████| 26.4M/26.4M [00:01<00:00, 16.5MB/s]\n"
          ]
        },
        {
          "output_type": "stream",
          "name": "stdout",
          "text": [
            "Extracting dataset/FashionMNIST/raw/train-images-idx3-ubyte.gz to dataset/FashionMNIST/raw\n",
            "\n",
            "Downloading http://fashion-mnist.s3-website.eu-central-1.amazonaws.com/train-labels-idx1-ubyte.gz\n",
            "Downloading http://fashion-mnist.s3-website.eu-central-1.amazonaws.com/train-labels-idx1-ubyte.gz to dataset/FashionMNIST/raw/train-labels-idx1-ubyte.gz\n"
          ]
        },
        {
          "output_type": "stream",
          "name": "stderr",
          "text": [
            "100%|██████████| 29.5k/29.5k [00:00<00:00, 339kB/s]\n"
          ]
        },
        {
          "output_type": "stream",
          "name": "stdout",
          "text": [
            "Extracting dataset/FashionMNIST/raw/train-labels-idx1-ubyte.gz to dataset/FashionMNIST/raw\n",
            "\n",
            "Downloading http://fashion-mnist.s3-website.eu-central-1.amazonaws.com/t10k-images-idx3-ubyte.gz\n",
            "Downloading http://fashion-mnist.s3-website.eu-central-1.amazonaws.com/t10k-images-idx3-ubyte.gz to dataset/FashionMNIST/raw/t10k-images-idx3-ubyte.gz\n"
          ]
        },
        {
          "output_type": "stream",
          "name": "stderr",
          "text": [
            "100%|██████████| 4.42M/4.42M [00:00<00:00, 6.29MB/s]\n"
          ]
        },
        {
          "output_type": "stream",
          "name": "stdout",
          "text": [
            "Extracting dataset/FashionMNIST/raw/t10k-images-idx3-ubyte.gz to dataset/FashionMNIST/raw\n",
            "\n",
            "Downloading http://fashion-mnist.s3-website.eu-central-1.amazonaws.com/t10k-labels-idx1-ubyte.gz\n",
            "Downloading http://fashion-mnist.s3-website.eu-central-1.amazonaws.com/t10k-labels-idx1-ubyte.gz to dataset/FashionMNIST/raw/t10k-labels-idx1-ubyte.gz\n"
          ]
        },
        {
          "output_type": "stream",
          "name": "stderr",
          "text": [
            "100%|██████████| 5.15k/5.15k [00:00<00:00, 4.54MB/s]"
          ]
        },
        {
          "output_type": "stream",
          "name": "stdout",
          "text": [
            "Extracting dataset/FashionMNIST/raw/t10k-labels-idx1-ubyte.gz to dataset/FashionMNIST/raw\n",
            "\n"
          ]
        },
        {
          "output_type": "stream",
          "name": "stderr",
          "text": [
            "\n"
          ]
        }
      ]
    },
    {
      "cell_type": "code",
      "source": [
        "train_dataset"
      ],
      "metadata": {
        "colab": {
          "base_uri": "https://localhost:8080/"
        },
        "id": "WJXI3WhLxvDv",
        "outputId": "4196c209-e035-4ef3-ec3e-edb59130b747"
      },
      "execution_count": 3,
      "outputs": [
        {
          "output_type": "execute_result",
          "data": {
            "text/plain": [
              "Dataset FashionMNIST\n",
              "    Number of datapoints: 60000\n",
              "    Root location: dataset\n",
              "    Split: Train\n",
              "    StandardTransform\n",
              "Transform: ToTensor()"
            ]
          },
          "metadata": {},
          "execution_count": 3
        }
      ]
    },
    {
      "cell_type": "code",
      "source": [
        "test_dataset"
      ],
      "metadata": {
        "colab": {
          "base_uri": "https://localhost:8080/"
        },
        "id": "CAPnkottx2tF",
        "outputId": "fa22dbdb-4781-4fd9-de8c-60888922345e"
      },
      "execution_count": 4,
      "outputs": [
        {
          "output_type": "execute_result",
          "data": {
            "text/plain": [
              "Dataset FashionMNIST\n",
              "    Number of datapoints: 10000\n",
              "    Root location: dataset\n",
              "    Split: Test\n",
              "    StandardTransform\n",
              "Transform: ToTensor()"
            ]
          },
          "metadata": {},
          "execution_count": 4
        }
      ]
    },
    {
      "cell_type": "markdown",
      "source": [
        "**data in batches**"
      ],
      "metadata": {
        "id": "7vfp_1Pyx5-f"
      }
    },
    {
      "cell_type": "code",
      "source": [
        "batch_size=64\n",
        "device='cuda' if torch.cuda.is_available() else 'cpu'"
      ],
      "metadata": {
        "id": "1XvY7jbKx3ht"
      },
      "execution_count": 5,
      "outputs": []
    },
    {
      "cell_type": "code",
      "source": [
        "train_loader=DataLoader(train_dataset,batch_size=batch_size,shuffle=True)\n",
        "test_loader=DataLoader(test_dataset,batch_size=batch_size,shuffle=False)"
      ],
      "metadata": {
        "id": "mZKxGxA9yEye"
      },
      "execution_count": 6,
      "outputs": []
    },
    {
      "cell_type": "code",
      "source": [
        "len(list(train_loader))"
      ],
      "metadata": {
        "colab": {
          "base_uri": "https://localhost:8080/"
        },
        "id": "QFF4Y3RSyTxn",
        "outputId": "abdfbeed-a17c-4dba-dca0-85ebc699b9d2"
      },
      "execution_count": 7,
      "outputs": [
        {
          "output_type": "execute_result",
          "data": {
            "text/plain": [
              "938"
            ]
          },
          "metadata": {},
          "execution_count": 7
        }
      ]
    },
    {
      "cell_type": "code",
      "source": [
        "len(list(test_loader))"
      ],
      "metadata": {
        "colab": {
          "base_uri": "https://localhost:8080/"
        },
        "id": "nshDom9FyV5e",
        "outputId": "e383f601-90dd-411e-8eb9-e0b0ffdfd2e0"
      },
      "execution_count": 8,
      "outputs": [
        {
          "output_type": "execute_result",
          "data": {
            "text/plain": [
              "157"
            ]
          },
          "metadata": {},
          "execution_count": 8
        }
      ]
    },
    {
      "cell_type": "markdown",
      "source": [
        "**Neural Network Model**"
      ],
      "metadata": {
        "id": "IjnQ6X4Dyev2"
      }
    },
    {
      "cell_type": "code",
      "source": [
        "class NeuralNetwork(nn.Module):\n",
        "  def __init__(self,in_dim,n_hidden_1,n_hidden_2,out_dim):\n",
        "    super().__init__()\n",
        "    self.layer1=nn.Sequential(\n",
        "        nn.Linear(in_dim,n_hidden_1),\n",
        "        nn.ReLU(True)\n",
        "    )\n",
        "    self.layer2=nn.Sequential(\n",
        "        nn.Linear(n_hidden_1,n_hidden_2),\n",
        "        nn.ReLU(True)\n",
        "    )\n",
        "    self.layer3=nn.Sequential(\n",
        "        nn.Linear(n_hidden_2,out_dim),\n",
        "        nn.ReLU(True)\n",
        "    )\n",
        "  def forward(self,x):\n",
        "    x=self.layer1(x)\n",
        "    x=self.layer2(x)\n",
        "    x=self.layer3(x)\n",
        "    return x"
      ],
      "metadata": {
        "id": "w8TYa0TnyXuO"
      },
      "execution_count": 9,
      "outputs": []
    },
    {
      "cell_type": "code",
      "source": [
        "in_dim=28*28\n",
        "n_hidden_1=300\n",
        "n_hidden_2=100\n",
        "out_dim=10"
      ],
      "metadata": {
        "id": "wjdy7qQQzl2i"
      },
      "execution_count": 10,
      "outputs": []
    },
    {
      "cell_type": "code",
      "source": [
        "model=NeuralNetwork(in_dim,n_hidden_1,n_hidden_2,out_dim)"
      ],
      "metadata": {
        "id": "9ml9QDFjz0Fe"
      },
      "execution_count": 11,
      "outputs": []
    },
    {
      "cell_type": "code",
      "source": [
        "model"
      ],
      "metadata": {
        "colab": {
          "base_uri": "https://localhost:8080/"
        },
        "id": "okWHXnjfz2hX",
        "outputId": "0eb5b965-7e4f-4f76-c457-54f3a48c17a1"
      },
      "execution_count": 12,
      "outputs": [
        {
          "output_type": "execute_result",
          "data": {
            "text/plain": [
              "NeuralNetwork(\n",
              "  (layer1): Sequential(\n",
              "    (0): Linear(in_features=784, out_features=300, bias=True)\n",
              "    (1): ReLU(inplace=True)\n",
              "  )\n",
              "  (layer2): Sequential(\n",
              "    (0): Linear(in_features=300, out_features=100, bias=True)\n",
              "    (1): ReLU(inplace=True)\n",
              "  )\n",
              "  (layer3): Sequential(\n",
              "    (0): Linear(in_features=100, out_features=10, bias=True)\n",
              "    (1): ReLU(inplace=True)\n",
              "  )\n",
              ")"
            ]
          },
          "metadata": {},
          "execution_count": 12
        }
      ]
    },
    {
      "cell_type": "code",
      "source": [
        "model=model.to(device)"
      ],
      "metadata": {
        "id": "Nirvqgfiz-g3"
      },
      "execution_count": 13,
      "outputs": []
    },
    {
      "cell_type": "markdown",
      "source": [
        "**opt and loss**"
      ],
      "metadata": {
        "id": "dJ9Wob6L0D_H"
      }
    },
    {
      "cell_type": "code",
      "source": [
        "learning_rate=1e-3"
      ],
      "metadata": {
        "id": "FOe8eevq0CzP"
      },
      "execution_count": 14,
      "outputs": []
    },
    {
      "cell_type": "code",
      "source": [
        "criterion=nn.CrossEntropyLoss()\n",
        "optimizer=torch.optim.Adam(model.parameters(),lr=learning_rate)"
      ],
      "metadata": {
        "id": "oASA5gK-0Hu3"
      },
      "execution_count": 15,
      "outputs": []
    },
    {
      "cell_type": "markdown",
      "source": [
        "**Training Loop**"
      ],
      "metadata": {
        "id": "E-s1ysVe0UwI"
      }
    },
    {
      "cell_type": "code",
      "source": [
        "num_epochs=20"
      ],
      "metadata": {
        "id": "WjCB02gn0Rfv"
      },
      "execution_count": 16,
      "outputs": []
    },
    {
      "cell_type": "code",
      "source": [
        "for epoch in range(num_epochs):\n",
        "  print('*' * 10)\n",
        "  print(f'epoch{epoch+1}')\n",
        "  running_loss=0.0\n",
        "  running_acc=0.0\n",
        "  for i,data in enumerate(train_loader,1):\n",
        "    img,label=data\n",
        "    img=img.view(img.size(0),-1)\n",
        "    img=img.to(device)\n",
        "    label=label.to(device)\n",
        "    out=model(img)\n",
        "    loss=criterion(out,label)\n",
        "    running_loss +=loss.item()\n",
        "    _,pred=torch.max(out,1)\n",
        "    running_acc +=(pred == label).float().mean()\n",
        "    optimizer.zero_grad()\n",
        "    loss.backward()\n",
        "    optimizer.step()\n",
        "    if i %300 == 0:\n",
        "      print(f'epoch : {epoch+1} / {num_epochs},loss: {running_loss/i:.6f},acc:{running_acc/i:.6f}')\n",
        "  print(f'Finish:{epoch+1} epoch,loss: {running_loss/i:.6f},acc:{running_acc/i:.6f}')\n"
      ],
      "metadata": {
        "colab": {
          "base_uri": "https://localhost:8080/"
        },
        "id": "5TRAANCB0dfX",
        "outputId": "8655f78c-fc86-4e48-eede-f770e2da74f4"
      },
      "execution_count": 17,
      "outputs": [
        {
          "output_type": "stream",
          "name": "stdout",
          "text": [
            "**********\n",
            "epoch1\n",
            "epoch : 1 / 20,loss: 1.153450,acc:0.643490\n",
            "epoch : 1 / 20,loss: 1.067274,acc:0.678568\n",
            "epoch : 1 / 20,loss: 1.026736,acc:0.693958\n",
            "Finish:1 epoch,loss: 1.024407,acc:0.694863\n",
            "**********\n",
            "epoch2\n",
            "epoch : 2 / 20,loss: 0.930433,acc:0.732188\n",
            "epoch : 2 / 20,loss: 0.920786,acc:0.735443\n",
            "epoch : 2 / 20,loss: 0.917929,acc:0.735017\n",
            "Finish:2 epoch,loss: 0.916496,acc:0.735441\n",
            "**********\n",
            "epoch3\n",
            "epoch : 3 / 20,loss: 0.902471,acc:0.739844\n",
            "epoch : 3 / 20,loss: 0.893024,acc:0.743542\n",
            "epoch : 3 / 20,loss: 0.888795,acc:0.745694\n",
            "Finish:3 epoch,loss: 0.887089,acc:0.746202\n",
            "**********\n",
            "epoch4\n",
            "epoch : 4 / 20,loss: 0.869038,acc:0.751875\n",
            "epoch : 4 / 20,loss: 0.868942,acc:0.750677\n",
            "epoch : 4 / 20,loss: 0.869589,acc:0.752535\n",
            "Finish:4 epoch,loss: 0.868851,acc:0.752549\n",
            "**********\n",
            "epoch5\n",
            "epoch : 5 / 20,loss: 0.860759,acc:0.753958\n",
            "epoch : 5 / 20,loss: 0.857901,acc:0.755599\n",
            "epoch : 5 / 20,loss: 0.858491,acc:0.755920\n",
            "Finish:5 epoch,loss: 0.858975,acc:0.755680\n",
            "**********\n",
            "epoch6\n",
            "epoch : 6 / 20,loss: 0.849827,acc:0.759271\n",
            "epoch : 6 / 20,loss: 0.848154,acc:0.759583\n",
            "epoch : 6 / 20,loss: 0.848272,acc:0.760451\n",
            "Finish:6 epoch,loss: 0.848645,acc:0.760328\n",
            "**********\n",
            "epoch7\n",
            "epoch : 7 / 20,loss: 0.850733,acc:0.758802\n",
            "epoch : 7 / 20,loss: 0.847826,acc:0.760859\n",
            "epoch : 7 / 20,loss: 0.840359,acc:0.762830\n",
            "Finish:7 epoch,loss: 0.840822,acc:0.762743\n",
            "**********\n",
            "epoch8\n",
            "epoch : 8 / 20,loss: 0.834698,acc:0.763385\n",
            "epoch : 8 / 20,loss: 0.832354,acc:0.764115\n",
            "epoch : 8 / 20,loss: 0.834741,acc:0.764826\n",
            "Finish:8 epoch,loss: 0.834802,acc:0.764759\n",
            "**********\n",
            "epoch9\n",
            "epoch : 9 / 20,loss: 0.827211,acc:0.766563\n",
            "epoch : 9 / 20,loss: 0.827802,acc:0.767005\n",
            "epoch : 9 / 20,loss: 0.829317,acc:0.766944\n",
            "Finish:9 epoch,loss: 0.829407,acc:0.767108\n",
            "**********\n",
            "epoch10\n",
            "epoch : 10 / 20,loss: 0.804284,acc:0.771719\n",
            "epoch : 10 / 20,loss: 0.809030,acc:0.773333\n",
            "epoch : 10 / 20,loss: 0.819645,acc:0.770503\n",
            "Finish:10 epoch,loss: 0.821482,acc:0.770073\n",
            "**********\n",
            "epoch11\n",
            "epoch : 11 / 20,loss: 0.821660,acc:0.767135\n",
            "epoch : 11 / 20,loss: 0.821504,acc:0.769531\n",
            "epoch : 11 / 20,loss: 0.819489,acc:0.769913\n",
            "Finish:11 epoch,loss: 0.819037,acc:0.770439\n",
            "**********\n",
            "epoch12\n",
            "epoch : 12 / 20,loss: 0.824091,acc:0.769271\n",
            "epoch : 12 / 20,loss: 0.818445,acc:0.770781\n",
            "epoch : 12 / 20,loss: 0.813793,acc:0.770972\n",
            "Finish:12 epoch,loss: 0.812767,acc:0.771239\n",
            "**********\n",
            "epoch13\n",
            "epoch : 13 / 20,loss: 0.793098,acc:0.780365\n",
            "epoch : 13 / 20,loss: 0.802344,acc:0.775182\n",
            "epoch : 13 / 20,loss: 0.808603,acc:0.773177\n",
            "Finish:13 epoch,loss: 0.809465,acc:0.773021\n",
            "**********\n",
            "epoch14\n",
            "epoch : 14 / 20,loss: 0.805045,acc:0.770677\n",
            "epoch : 14 / 20,loss: 0.804791,acc:0.772708\n",
            "epoch : 14 / 20,loss: 0.807113,acc:0.773420\n",
            "Finish:14 epoch,loss: 0.806856,acc:0.773687\n",
            "**********\n",
            "epoch15\n",
            "epoch : 15 / 20,loss: 0.805883,acc:0.773698\n",
            "epoch : 15 / 20,loss: 0.798850,acc:0.776510\n",
            "epoch : 15 / 20,loss: 0.801953,acc:0.775590\n",
            "Finish:15 epoch,loss: 0.801767,acc:0.775536\n",
            "**********\n",
            "epoch16\n",
            "epoch : 16 / 20,loss: 0.797954,acc:0.777708\n",
            "epoch : 16 / 20,loss: 0.799417,acc:0.775807\n",
            "epoch : 16 / 20,loss: 0.799812,acc:0.775156\n",
            "Finish:16 epoch,loss: 0.801854,acc:0.774770\n",
            "**********\n",
            "epoch17\n",
            "epoch : 17 / 20,loss: 0.799081,acc:0.775365\n",
            "epoch : 17 / 20,loss: 0.792845,acc:0.777031\n",
            "epoch : 17 / 20,loss: 0.796669,acc:0.777101\n",
            "Finish:17 epoch,loss: 0.797619,acc:0.776453\n",
            "**********\n",
            "epoch18\n",
            "epoch : 18 / 20,loss: 0.798821,acc:0.776198\n",
            "epoch : 18 / 20,loss: 0.798588,acc:0.774661\n",
            "epoch : 18 / 20,loss: 0.794793,acc:0.776580\n",
            "Finish:18 epoch,loss: 0.794968,acc:0.776503\n",
            "**********\n",
            "epoch19\n",
            "epoch : 19 / 20,loss: 0.784816,acc:0.780417\n",
            "epoch : 19 / 20,loss: 0.789346,acc:0.778203\n",
            "epoch : 19 / 20,loss: 0.790974,acc:0.777309\n",
            "Finish:19 epoch,loss: 0.790489,acc:0.777452\n",
            "**********\n",
            "epoch20\n",
            "epoch : 20 / 20,loss: 0.787100,acc:0.775937\n",
            "epoch : 20 / 20,loss: 0.788644,acc:0.776979\n",
            "epoch : 20 / 20,loss: 0.789278,acc:0.777639\n",
            "Finish:20 epoch,loss: 0.789632,acc:0.777302\n"
          ]
        }
      ]
    },
    {
      "cell_type": "markdown",
      "source": [
        "**Evaluate model**"
      ],
      "metadata": {
        "id": "yi27axSa2dl4"
      }
    },
    {
      "cell_type": "code",
      "source": [
        "model.eval()\n",
        "eval_loss=0.0\n",
        "eval_acc=0.0\n",
        "for data in test_loader:\n",
        "  img,label=data\n",
        "  img=img.view(img.size(0),-1)\n",
        "  img=img.to(device)\n",
        "  label=label.to(device)\n",
        "  with torch.no_grad():\n",
        "    out=model(img)\n",
        "    loss=criterion(out,label)\n",
        "    eval_loss +=loss.item()\n",
        "    _,pred=torch.max(out,1)\n",
        "    eval_acc +=(pred==label).float().mean()\n",
        "\n",
        "print(f'Test_loss: {eval_loss/len(test_loader)},acc: {eval_acc/len(test_loader)}')\n"
      ],
      "metadata": {
        "colab": {
          "base_uri": "https://localhost:8080/"
        },
        "id": "MNLZ8pcO2eFN",
        "outputId": "b3702ea4-f355-484c-de99-203c303d3235"
      },
      "execution_count": 18,
      "outputs": [
        {
          "output_type": "stream",
          "name": "stdout",
          "text": [
            "Test_loss: 0.8928539500494671,acc: 0.758957028388977\n"
          ]
        }
      ]
    },
    {
      "cell_type": "markdown",
      "source": [
        "**visulize model**"
      ],
      "metadata": {
        "id": "QmVQuw1m3nWZ"
      }
    },
    {
      "cell_type": "code",
      "source": [
        "images, labels = next(iter(test_loader))\n",
        "images = images.reshape(-1, 28*28).to(device)\n",
        "labels = labels.to(device)\n",
        "outputs = model(images)\n",
        "_, predicted = torch.max(outputs, 1)\n",
        "fig, ax = plt.subplots(1, 5, figsize=(15, 3))\n",
        "for i in range(5):\n",
        "    ax[i].imshow(images[i].reshape(28, 28).cpu(), cmap='gray')\n",
        "    ax[i].set_title(f'True: {labels[i].item()}, Pred: {predicted[i].item()}')\n",
        "    ax[i].axis('off')\n",
        "plt.show()"
      ],
      "metadata": {
        "colab": {
          "base_uri": "https://localhost:8080/",
          "height": 228
        },
        "id": "_lEnpIcJ3pOJ",
        "outputId": "a2537418-1716-4110-ee22-74b5b9be210a"
      },
      "execution_count": 19,
      "outputs": [
        {
          "output_type": "display_data",
          "data": {
            "text/plain": [
              "<Figure size 1500x300 with 5 Axes>"
            ],
            "image/png": "[encoded data removed]"
          },
          "metadata": {}
        }
      ]
    },
    {
      "cell_type": "markdown",
      "source": [
        "**Save Model**"
      ],
      "metadata": {
        "id": "0i2VRU1P2Mog"
      }
    },
    {
      "cell_type": "code",
      "source": [
        "model.state_dict()"
      ],
      "metadata": {
        "colab": {
          "base_uri": "https://localhost:8080/"
        },
        "id": "d8Su3KRD16b4",
        "outputId": "633c031f-da54-4d20-bc16-20d33af073c4"
      },
      "execution_count": 20,
      "outputs": [
        {
          "output_type": "execute_result",
          "data": {
            "text/plain": [
              "OrderedDict([('layer1.0.weight',\n",
              "              tensor([[ 0.0629, -0.1888,  0.1368,  ...,  0.0180,  0.1898,  0.4176],\n",
              "                      [-0.0156,  0.0902, -0.0695,  ..., -0.2370,  0.1446,  0.1553],\n",
              "                      [-0.2916, -0.3166, -0.3387,  ...,  0.1302,  0.4272, -0.5006],\n",
              "                      ...,\n",
              "                      [-0.0274,  0.0150,  0.0037,  ...,  0.0647,  0.0977,  0.0111],\n",
              "                      [ 0.0276,  0.0355,  0.0249,  ...,  0.0274,  0.0186, -0.0176],\n",
              "                      [ 0.0537, -0.0357, -0.0547,  ...,  0.1296, -0.0967,  0.0919]])),\n",
              "             ('layer1.0.bias',\n",
              "              tensor([-1.9429e-01, -4.3942e-02, -5.6250e-01,  1.0035e-02, -1.3007e-01,\n",
              "                       4.5977e-01,  1.0002e-01, -2.4893e-02,  2.7486e-01, -4.4795e-02,\n",
              "                      -2.1885e-02, -2.5048e-01,  2.3884e-01, -4.2732e-01, -6.2463e-02,\n",
              "                      -4.8699e-02,  1.2932e-01, -1.3855e-01,  3.8994e-01,  3.6975e-02,\n",
              "                       3.0555e-01,  4.9998e-01, -2.2051e-02,  1.0822e-01,  4.3378e-03,\n",
              "                       5.6615e-02,  9.8305e-03,  3.0035e-01,  5.7475e-05,  1.6859e-01,\n",
              "                       5.0876e-01, -9.5298e-03,  1.6004e-01,  2.4383e-01,  1.0964e-01,\n",
              "                       4.3854e-01, -1.8869e-02,  1.7644e-01, -2.5397e-02, -2.2671e-01,\n",
              "                      -3.3962e-02,  1.8827e-01,  3.1069e-01,  5.1465e-03, -1.1858e-02,\n",
              "                      -4.0921e-02,  2.5723e-01,  1.5390e-01,  8.5975e-02, -2.8622e-01,\n",
              "                       1.5859e-01,  9.3678e-02,  2.2383e-01,  3.6088e-03,  3.2747e-01,\n",
              "                       5.3747e-01, -3.3320e-02, -7.1837e-02, -3.7999e-01,  3.4996e-01,\n",
              "                      -2.3070e-02,  9.6571e-02,  2.8420e-01,  1.4542e-01, -5.9320e-02,\n",
              "                      -3.9332e-02, -9.8996e-02,  5.3414e-02,  3.7818e-02,  5.0358e-01,\n",
              "                      -3.3750e-02,  2.2563e-01, -1.4190e-02, -1.3345e-01, -3.0647e-03,\n",
              "                       4.5744e-01,  5.8360e-02,  2.5552e-01,  3.7228e-02,  9.0488e-01,\n",
              "                       1.4250e-01,  3.1442e-01,  1.0820e-01,  2.2756e-01,  5.4713e-02,\n",
              "                      -1.4209e-01,  2.0053e-01,  3.2567e-01, -3.1389e-02,  4.6395e-01,\n",
              "                       4.6207e-01,  3.3039e-01, -3.6457e-02,  6.2526e-01, -3.1025e-02,\n",
              "                      -2.4012e-02, -4.6829e-02,  3.7986e-01,  3.5491e-01,  7.5394e-02,\n",
              "                      -7.5842e-02,  7.3407e-01,  2.2866e-01,  1.8207e-01,  2.0068e-02,\n",
              "                       6.0678e-01,  1.7280e-01,  3.5666e-01, -1.6475e-02,  1.2994e-01,\n",
              "                      -1.0108e-01,  6.6579e-01,  5.0915e-01, -3.4718e-01, -4.0274e-01,\n",
              "                       4.4070e-01, -3.6439e-02,  5.3103e-02,  1.1444e-01,  1.9104e-01,\n",
              "                       7.1546e-02, -2.8404e-02, -5.2369e-01,  2.6127e-01,  2.4601e-01,\n",
              "                       1.1226e-01, -3.0858e-01,  2.0265e-01,  1.4565e-01,  2.2557e-01,\n",
              "                       1.3785e-01,  6.3788e-02, -5.0142e-02,  2.7473e-01, -6.8345e-02,\n",
              "                       6.8066e-01,  2.9889e-01, -3.8800e-01,  6.6152e-02,  1.6384e-02,\n",
              "                       1.4965e-01,  2.7591e-01,  1.9852e-02,  7.2939e-03,  2.5116e-02,\n",
              "                      -5.3878e-02, -2.2337e-01,  1.9061e-01,  1.5063e-02,  1.8027e-01,\n",
              "                       2.0094e-01,  2.2360e-01,  5.9009e-01,  4.7455e-01, -1.7190e-02,\n",
              "                      -1.5481e-02, -2.6552e-01,  2.6955e-01,  4.7166e-04, -4.4810e-02,\n",
              "                       6.6795e-01, -3.1455e-02,  4.8332e-01,  1.0764e-01, -3.3978e-01,\n",
              "                       5.2905e-01,  5.4810e-02, -8.6495e-03, -2.2299e-01,  3.1017e-01,\n",
              "                       1.3378e-01,  2.1487e-03,  4.0664e-01,  4.3313e-01,  1.1089e-01,\n",
              "                       3.9577e-01, -1.4912e-03,  1.0411e-01,  2.6333e-01,  3.1918e-01,\n",
              "                       7.6794e-02,  2.4882e-02, -2.9603e-01, -4.6537e-02, -4.9157e-02,\n",
              "                       1.9794e-01, -2.2262e-01, -7.7829e-02,  1.3413e-02, -6.0227e-02,\n",
              "                      -4.5052e-02,  3.4598e-01, -3.0625e-02, -2.8350e-02,  3.0553e-01,\n",
              "                      -1.3687e-02,  4.2029e-01, -2.0337e-01,  3.1203e-01,  3.5420e-01,\n",
              "                       8.8582e-02,  1.9770e-02, -1.7681e-01,  6.3625e-01,  1.0058e-01,\n",
              "                       1.9458e-01, -1.0264e-02,  1.7629e-01,  2.4890e-01, -3.0333e-01,\n",
              "                      -4.3987e-01, -5.6103e-02, -1.0111e-01, -3.6076e-01,  5.9885e-02,\n",
              "                      -1.7991e-01, -1.2400e-01,  3.7294e-02, -1.5464e-01,  6.7782e-02,\n",
              "                      -6.7685e-02,  2.3787e-01, -3.6322e-02,  3.0904e-01,  2.5578e-02,\n",
              "                      -2.7919e-01,  1.0360e-01,  6.0591e-02, -2.2270e-02,  1.7664e-01,\n",
              "                       1.2424e-02, -3.4462e-02, -1.1675e-02,  3.4726e-01,  6.8095e-01,\n",
              "                       2.8444e-01,  7.5239e-02,  5.7008e-01,  8.1450e-04, -1.1575e-01,\n",
              "                      -4.2274e-02,  3.0304e-01,  4.4584e-01, -4.2533e-02, -7.9267e-01,\n",
              "                       1.0001e-01,  2.9389e-01, -8.1529e-03,  4.7574e-01,  7.6920e-02,\n",
              "                       2.1694e-01,  2.1167e-02,  8.7232e-02,  4.8028e-01,  4.6056e-01,\n",
              "                      -1.9733e-02, -1.8756e-02,  1.9632e-01,  3.2287e-01,  4.8394e-01,\n",
              "                       2.0893e-01,  1.5827e-01,  5.3702e-01,  4.4153e-01, -2.2645e-02,\n",
              "                      -1.8561e-02, -7.6846e-01, -1.2694e-01,  1.7555e-01,  2.7293e-01,\n",
              "                       2.8697e-03,  3.5976e-01,  7.6752e-02,  3.9549e-01,  1.7395e-01,\n",
              "                       3.3637e-01,  4.8548e-01,  8.9029e-02,  2.0515e-01,  5.1947e-01,\n",
              "                      -2.6327e-02, -2.3432e-01, -1.1202e-02,  4.2167e-02,  1.1071e-01,\n",
              "                       4.4224e-01, -4.4228e-02,  1.1938e-01,  1.4591e-01,  1.1619e-01,\n",
              "                       7.9827e-02,  3.0942e-01,  4.0316e-01,  3.3815e-04,  5.7713e-01,\n",
              "                       1.5070e-01, -4.7061e-01,  1.9056e-01, -1.7895e-02,  4.1410e-01])),\n",
              "             ('layer2.0.weight',\n",
              "              tensor([[ 1.2090e-01,  1.5064e-01, -1.9247e-01,  ..., -2.2123e-01,\n",
              "                       -5.0150e-02,  5.5025e-02],\n",
              "                      [-5.2014e-03,  8.7054e-04, -2.1876e-02,  ...,  2.9573e-01,\n",
              "                        3.6227e-02,  2.8962e-01],\n",
              "                      [ 2.4575e-02, -1.3759e-01,  4.0873e-04,  ...,  3.4257e-01,\n",
              "                       -2.3862e-02,  1.4524e-02],\n",
              "                      ...,\n",
              "                      [ 4.7247e-02,  1.7846e-01, -5.6295e-01,  ...,  2.5031e-02,\n",
              "                        4.1835e-02,  2.8645e-01],\n",
              "                      [ 4.9445e-02,  2.7811e-01,  7.0621e-02,  ..., -2.4009e-01,\n",
              "                       -6.7809e-03, -3.2253e-01],\n",
              "                      [ 9.5499e-02,  1.5885e-01, -2.8792e-01,  ..., -1.6380e-01,\n",
              "                        4.9685e-02,  3.5797e-01]])),\n",
              "             ('layer2.0.bias',\n",
              "              tensor([ 0.2497,  0.1550,  0.3089,  0.4620,  0.3275, -0.0025, -0.0744,  0.1320,\n",
              "                       0.1946, -0.3304,  0.2925, -0.0333,  0.1254, -0.1800, -0.2876,  0.2151,\n",
              "                       0.3633,  0.1225,  0.0537,  0.2396,  0.0834,  0.3861,  0.6646, -0.0997,\n",
              "                      -0.1760,  0.6220,  0.2064,  0.3967, -0.0627,  0.1476,  0.3383, -0.3971,\n",
              "                       0.0150,  0.0741,  0.4957,  0.2360,  0.2902,  0.5578,  0.0360,  0.1222,\n",
              "                       0.0592, -0.0460,  0.0315,  0.3057,  0.3842, -0.3097,  0.3178,  0.0931,\n",
              "                       0.0563,  0.1144,  0.2848,  0.3634,  0.1369,  0.0639,  0.0580, -0.0747,\n",
              "                      -0.0240, -0.0954,  0.2651, -0.0500, -0.1467, -0.1259, -0.1116,  0.4514,\n",
              "                      -0.0771, -0.1017,  0.4706,  0.4643,  0.5562, -0.2356, -0.1092,  0.6859,\n",
              "                       0.4709, -0.0369, -0.1574,  0.3500,  0.2815, -0.0782,  0.5365,  0.3000,\n",
              "                       0.2023, -0.0329,  0.3541, -0.0901, -0.1017,  0.2584,  0.3469,  0.5216,\n",
              "                       0.1072, -0.0509,  0.0233,  0.1880,  0.6362, -0.1101,  0.3230,  0.4723,\n",
              "                       0.2283,  0.7648, -0.0308,  0.4720])),\n",
              "             ('layer3.0.weight',\n",
              "              tensor([[-3.9280e-02,  2.8738e-03, -1.0202e-01, -7.5036e-02, -6.1243e-02,\n",
              "                        6.6249e-02,  3.4652e-02, -4.9921e-02, -1.1293e-01, -2.7811e-02,\n",
              "                       -1.0886e-01, -1.0733e-01, -2.5316e-02, -3.8251e-02, -2.3185e-03,\n",
              "                       -7.3756e-02,  3.7262e-02, -7.4772e-02, -1.3225e-01,  8.6136e-02,\n",
              "                        2.7030e-02,  1.0559e-02, -1.5743e-02, -1.4422e-02, -4.2026e-02,\n",
              "                        5.5420e-02, -8.7731e-02, -8.9712e-02,  3.7245e-03,  4.4484e-02,\n",
              "                       -8.0093e-02, -4.5806e-02, -7.0350e-02, -6.2913e-02,  5.5877e-02,\n",
              "                       -8.1622e-02,  1.5811e-02, -6.9202e-02,  4.7495e-02, -1.0089e-01,\n",
              "                        1.8098e-02, -1.2039e-01,  3.2247e-02,  1.7075e-02, -1.0341e-01,\n",
              "                       -7.1602e-02, -7.6351e-02, -1.0299e-01,  3.5903e-02, -2.7662e-02,\n",
              "                       -3.5210e-02,  4.7314e-02,  7.8288e-03,  6.2116e-02, -5.0886e-02,\n",
              "                        4.4376e-02, -1.0659e-01, -2.3457e-02,  2.8381e-02, -9.0955e-02,\n",
              "                       -8.8967e-02, -7.3650e-02,  9.1056e-02, -3.0459e-02,  1.7299e-02,\n",
              "                       -1.2221e-01, -4.5543e-02,  3.1811e-02, -1.3568e-01, -1.2782e-01,\n",
              "                       -4.7854e-04, -8.9810e-02, -2.7825e-02, -4.3208e-02, -3.1653e-02,\n",
              "                       -1.1384e-02,  6.3193e-03, -2.8296e-02, -5.5938e-02,  2.5734e-02,\n",
              "                       -1.1513e-01,  6.1020e-02,  3.6349e-02, -1.1281e-01, -9.0196e-03,\n",
              "                        4.4539e-02, -7.4694e-02, -9.1126e-02,  2.3083e-02,  5.8406e-02,\n",
              "                       -9.8439e-04, -8.0680e-02, -1.0648e-02, -8.0074e-02,  3.0917e-02,\n",
              "                        3.2443e-02, -1.3458e-02,  4.9401e-02, -6.7015e-02,  7.6926e-02],\n",
              "                      [ 2.0511e-01,  7.7827e-02, -1.6770e-01,  1.4765e-01,  1.0754e-01,\n",
              "                        4.0216e-01, -5.3846e-02,  1.6915e-01, -3.0518e-01,  1.2876e-01,\n",
              "                       -4.1272e-01,  5.1457e-02,  3.1144e-02, -2.3934e-02,  4.2525e-02,\n",
              "                        1.3539e-01, -2.3058e-01, -2.2431e-01,  3.8019e-01,  5.5750e-03,\n",
              "                        1.8175e-01, -4.5090e-01, -1.0550e-01, -2.5376e-01, -3.6975e-01,\n",
              "                       -5.2488e-01, -4.6381e-01,  2.0339e-01, -3.1686e-01,  1.0694e-02,\n",
              "                       -2.6264e-01, -4.5173e-02,  2.3700e-01, -4.9760e-02, -3.8993e-02,\n",
              "                       -3.4997e-01, -3.6061e-01, -1.3537e-01,  1.2993e-01, -1.6606e-01,\n",
              "                        2.6545e-01, -4.2324e-01, -1.6318e-01,  7.5854e-02, -4.3500e-01,\n",
              "                       -2.2907e-01,  2.3146e-03,  1.1310e-01,  5.2712e-02,  3.6354e-02,\n",
              "                        9.1718e-02,  1.9713e-01, -1.4538e-01, -2.4450e-01,  1.7820e-01,\n",
              "                       -7.5178e-01, -9.6919e-02,  3.2830e-02,  2.7533e-02, -1.1956e-01,\n",
              "                       -3.5468e-01,  3.1682e-02, -4.8641e-02,  7.0363e-02, -5.5136e-02,\n",
              "                       -1.6343e-01,  8.8831e-02, -6.4609e-02, -4.0445e-01, -2.7879e-01,\n",
              "                       -2.1644e-01,  2.3168e-01, -4.9285e-03, -9.4907e-02,  3.4875e-01,\n",
              "                       -2.5721e-01, -1.5179e-01,  7.1972e-02, -2.0357e-01,  1.4676e-01,\n",
              "                        4.6201e-03, -1.2958e-01, -2.0644e-01,  5.6748e-01,  7.1039e-02,\n",
              "                        7.7008e-03,  1.1720e-01, -7.4020e-02,  1.9795e-01, -1.1804e-01,\n",
              "                       -3.6079e-01,  1.3541e-01, -6.1749e-02, -5.1548e-02, -4.0638e-01,\n",
              "                        4.6525e-02, -4.7186e-01,  3.1789e-01,  1.0196e-01, -2.3156e-02],\n",
              "                      [-1.4694e-02, -2.1648e-01, -5.9357e-01,  2.0184e-01, -1.6198e-01,\n",
              "                        9.0589e-02,  2.7128e-02, -1.7721e-01,  4.6316e-02, -6.3327e-02,\n",
              "                        1.7086e-02, -2.2866e-01,  5.4134e-02,  6.8159e-02, -9.9361e-02,\n",
              "                       -1.1268e-03, -6.9809e-01,  3.1325e-02, -3.4304e-02,  7.3959e-02,\n",
              "                       -4.4085e-01,  9.1716e-02,  3.2248e-01, -1.0389e-01, -1.4662e-01,\n",
              "                       -5.3180e-03,  1.6231e-02,  1.5143e-01, -7.1353e-02,  2.4916e-01,\n",
              "                        8.5866e-02, -9.6963e-02,  4.2350e-02, -7.1718e-02, -2.2121e-01,\n",
              "                        1.3490e-02,  4.0373e-02,  1.6010e-01, -2.1643e-01, -2.5822e-01,\n",
              "                       -6.2017e-02, -8.9117e-02,  1.6361e-03, -3.4964e-01,  8.7635e-02,\n",
              "                       -1.0754e-01, -2.7786e-01,  1.8128e-03,  4.9645e-02, -2.1248e-02,\n",
              "                        2.7306e-01,  1.2508e-01, -1.7568e-01, -3.3773e-01, -4.8347e-01,\n",
              "                       -4.3931e-02, -2.0075e-01, -1.8118e-02,  1.6994e-02,  5.6157e-02,\n",
              "                       -7.7265e-02,  9.3405e-02, -4.8729e-02,  1.6033e-01, -1.7999e-01,\n",
              "                       -1.3580e-01,  2.2525e-02,  9.1503e-02,  1.0410e-01, -6.2687e-02,\n",
              "                       -6.7942e-01,  2.5192e-01, -2.9994e-01,  1.9308e-01, -4.8751e-02,\n",
              "                        2.6320e-02, -1.8057e-01, -6.5597e-02,  3.2635e-02, -2.7442e-01,\n",
              "                        2.3538e-01, -6.6228e-03, -2.0225e-01, -3.6641e-01,  1.1259e-01,\n",
              "                        3.8130e-02, -7.6566e-02,  2.0930e-01, -3.1145e-01, -3.6545e-02,\n",
              "                       -1.1953e-01, -3.2733e-01,  1.1439e-01, -4.1389e-02, -1.6288e-05,\n",
              "                        3.6309e-02, -4.2987e-01,  3.2233e-01, -3.1200e-01,  2.4264e-01],\n",
              "                      [ 5.1681e-02,  7.8621e-02,  1.1129e-01,  2.8501e-01,  3.3181e-01,\n",
              "                       -5.0914e-01, -5.8103e-04, -3.5649e-02, -4.0254e-01, -1.9227e-02,\n",
              "                       -9.5110e-02, -5.6261e-01,  4.9740e-02,  9.2974e-02, -4.1096e-02,\n",
              "                        8.5806e-02, -6.4337e-01, -1.2799e-01, -3.6106e-01,  1.0941e-01,\n",
              "                       -2.1965e-01, -3.1345e-02, -4.9387e-01, -1.5490e-01, -2.8333e-02,\n",
              "                       -5.1291e-01,  9.6975e-03, -5.4792e-01,  3.6603e-02,  2.1507e-01,\n",
              "                       -3.9965e-01, -2.3194e-01,  1.8396e-01,  1.6731e-01,  3.1160e-01,\n",
              "                       -2.1253e-03,  5.8065e-03,  1.6392e-01,  1.5359e-01,  2.1227e-03,\n",
              "                        2.4936e-01, -1.8716e-02, -2.5217e-01,  1.0631e-01, -4.0303e-01,\n",
              "                       -6.8365e-02,  1.3341e-01,  1.5014e-02, -2.7083e-01, -3.1422e-01,\n",
              "                        1.9653e-01, -1.0294e-01,  2.9322e-02,  2.4055e-01,  1.3568e-02,\n",
              "                       -2.8171e-01, -1.7955e-02,  2.7566e-02, -1.7201e-01, -2.6588e-01,\n",
              "                       -3.1909e-02,  3.0030e-01, -1.8703e-02,  1.3136e-01, -1.1066e-01,\n",
              "                       -3.8887e-01,  6.0453e-02,  2.4993e-01,  1.1318e-01, -5.1617e-02,\n",
              "                       -2.0267e-01,  2.3509e-01,  1.4926e-01,  1.4556e-01, -1.5032e-01,\n",
              "                        2.7339e-02,  1.0415e-01, -9.2183e-02,  5.9251e-02,  8.7986e-02,\n",
              "                       -5.0936e-02,  4.6960e-02,  5.6738e-02, -2.5425e-01, -3.0973e-01,\n",
              "                       -2.8431e-01,  1.2684e-01, -5.5570e-01, -1.7094e-01, -1.6684e-01,\n",
              "                       -1.8979e-01,  8.8440e-02,  1.1225e-01, -5.6471e-02,  7.0487e-02,\n",
              "                        5.1584e-02, -4.0622e-02,  2.3324e-01,  1.2261e-02,  3.3906e-01],\n",
              "                      [-8.3872e-02, -9.8997e-02, -7.0905e-02,  3.9454e-02, -4.9894e-02,\n",
              "                        3.2735e-02, -9.2101e-03, -7.3481e-02,  1.7549e-03, -2.5208e-02,\n",
              "                       -9.4527e-02,  9.3527e-03,  4.8331e-02,  8.9218e-02, -1.0976e-01,\n",
              "                        3.2260e-02,  3.7088e-02, -6.6238e-02,  6.1675e-02,  2.6246e-02,\n",
              "                       -9.5169e-02, -4.2810e-02,  4.9736e-02, -7.4002e-02, -7.1022e-02,\n",
              "                       -5.5803e-02, -6.3118e-03,  4.6914e-02, -7.5165e-02,  1.1684e-02,\n",
              "                       -9.0353e-02,  4.9075e-02,  3.2400e-02, -5.3510e-02, -2.0143e-02,\n",
              "                       -2.2528e-02, -1.0662e-01, -2.7633e-02, -5.0888e-02,  4.4773e-02,\n",
              "                        7.1915e-02, -5.4913e-02, -1.1008e-01,  3.1626e-03, -6.3877e-02,\n",
              "                       -8.7450e-02,  2.8127e-02, -4.0342e-03,  3.9226e-02, -5.9989e-02,\n",
              "                       -3.5413e-02, -2.2772e-02, -3.6580e-02,  5.3892e-02, -1.3506e-01,\n",
              "                        7.6659e-02, -1.1797e-01,  8.0590e-02,  4.2278e-02,  6.7046e-02,\n",
              "                       -1.7551e-02,  6.6997e-02, -4.9306e-02, -1.3389e-01, -2.9423e-02,\n",
              "                        1.6861e-02,  8.8651e-03, -1.2608e-01, -3.5171e-02,  2.7869e-02,\n",
              "                       -7.2620e-02, -7.2665e-02,  1.4168e-02,  2.9311e-02,  5.1075e-03,\n",
              "                       -4.4543e-02,  3.8619e-02,  1.4581e-02, -6.3326e-03,  2.0522e-02,\n",
              "                        5.2692e-02, -7.4878e-02,  7.7246e-02, -2.8234e-02,  2.6506e-02,\n",
              "                        8.5919e-03,  6.2279e-02, -9.7857e-02,  1.2701e-03,  7.2231e-02,\n",
              "                       -1.5981e-02, -3.8926e-02, -5.7276e-02, -5.7293e-02, -4.1128e-02,\n",
              "                        3.3902e-03, -4.8117e-02,  4.9193e-02, -4.5187e-02, -8.4258e-02],\n",
              "                      [-1.9844e-01, -7.6627e-02,  1.3183e-01, -3.8474e-01,  1.9461e-01,\n",
              "                       -2.8009e-01,  2.2461e-02, -1.9524e-01, -1.9358e-01,  3.9747e-02,\n",
              "                        1.4511e-01, -1.2722e-01, -2.2492e-01,  4.4692e-02, -2.4449e-01,\n",
              "                        2.7074e-02,  1.1181e-01, -8.0673e-01,  2.8490e-01, -2.5270e-01,\n",
              "                        1.4957e-01, -2.8946e-01,  2.3635e-01,  5.7674e-02, -2.9811e-01,\n",
              "                        1.9210e-01, -3.8339e-01,  1.6666e-01, -4.9050e-01,  1.4119e-01,\n",
              "                        6.3385e-03, -4.0778e-01, -4.8588e-02, -1.1506e-01,  1.9097e-01,\n",
              "                        9.9588e-02, -1.1135e-01,  1.5694e-01,  2.7073e-02,  1.4046e-01,\n",
              "                       -3.8705e-02,  1.0194e-01,  1.8549e-01, -8.2802e-02,  1.8534e-01,\n",
              "                        7.1675e-02,  1.3818e-01, -9.1743e-01, -4.9269e-01, -7.1728e-03,\n",
              "                       -1.3156e-01,  1.7658e-01, -1.1636e-01,  3.8663e-02,  9.9238e-02,\n",
              "                        1.4119e-02,  4.3324e-02, -1.7820e-01, -1.7990e-02,  4.2312e-01,\n",
              "                        1.2151e-01,  4.6005e-02,  1.2893e-02, -6.7849e-02, -2.6102e-01,\n",
              "                        5.2744e-02, -5.2093e-01,  1.2921e-01,  9.4969e-02, -7.7469e-02,\n",
              "                        1.6493e-01,  1.2349e-01,  1.2673e-01, -4.2519e-02,  2.0631e-01,\n",
              "                       -4.0376e-01,  1.0856e-01, -2.2929e-02, -6.3174e-01,  1.3738e-01,\n",
              "                       -5.5279e-02,  3.3689e-02,  9.0751e-02,  1.3855e-01, -7.7928e-02,\n",
              "                        8.1261e-02, -2.8922e-01,  1.5508e-01,  3.9673e-02, -9.3835e-02,\n",
              "                        1.3100e-01,  2.1129e-01,  1.4874e-01,  1.9399e-03,  7.1263e-02,\n",
              "                       -4.3220e-01, -2.6638e-01, -1.0955e-01, -1.4138e-01,  1.5298e-01],\n",
              "                      [-8.8981e-02, -7.1807e-02, -6.9127e-02, -5.2834e-02, -2.4133e-02,\n",
              "                       -1.1643e-01, -7.7089e-02,  8.5110e-02, -3.0141e-02, -7.5497e-02,\n",
              "                       -8.7631e-02,  1.4629e-02, -2.6835e-02,  2.7429e-02, -4.0558e-02,\n",
              "                       -9.9182e-02, -8.5201e-02, -2.0750e-02, -3.6162e-02,  4.5404e-02,\n",
              "                        2.7350e-02,  4.4025e-03, -1.1728e-01, -9.2595e-02, -2.7568e-02,\n",
              "                        4.1333e-02, -1.0526e-01, -3.8196e-03, -7.6656e-02, -1.1868e-02,\n",
              "                       -8.3287e-02, -1.1719e-01,  5.6430e-02,  3.5782e-02, -1.0064e-01,\n",
              "                       -8.4713e-02, -2.7875e-02, -1.7211e-02,  1.7563e-02,  5.9037e-03,\n",
              "                        2.4143e-02, -4.0991e-02, -4.2836e-02, -7.1155e-02, -4.9433e-03,\n",
              "                       -1.1109e-01,  8.2648e-03, -7.8687e-03,  6.7185e-03, -2.3371e-02,\n",
              "                       -1.3505e-01,  2.4716e-02, -1.3432e-01,  5.7892e-02, -2.5645e-02,\n",
              "                        4.1176e-02, -1.0561e-02,  2.4488e-02, -4.7285e-02,  2.3267e-03,\n",
              "                       -6.2004e-02,  3.4413e-02, -9.7563e-02,  3.4521e-02, -1.0715e-01,\n",
              "                       -5.9267e-04,  8.9151e-04,  6.2123e-02, -1.1789e-01, -5.8457e-02,\n",
              "                       -8.7832e-02, -6.6727e-02, -1.0213e-01, -4.6989e-02, -6.1189e-02,\n",
              "                        4.6747e-02, -1.0912e-01,  6.1028e-02, -9.3895e-02, -9.2381e-02,\n",
              "                        5.3424e-02,  3.0211e-02,  5.5754e-03, -8.5902e-02, -9.5273e-02,\n",
              "                       -3.1484e-02,  2.3009e-02, -4.9348e-02, -7.1810e-02, -1.0311e-01,\n",
              "                       -1.8312e-02, -1.0915e-01, -1.0289e-02,  8.9551e-02, -1.1569e-01,\n",
              "                       -9.0448e-02, -8.2940e-02,  3.3753e-02, -9.9428e-03,  7.6307e-02],\n",
              "                      [ 2.2217e-01, -3.8095e-01,  2.1505e-02,  2.7845e-01,  1.4250e-01,\n",
              "                        1.4690e-01, -7.3671e-02,  2.3772e-01, -3.6364e-02,  6.6931e-02,\n",
              "                        1.1010e-01,  1.1356e-01,  5.1781e-02, -1.6228e-01,  1.4167e-01,\n",
              "                       -5.0857e-01,  1.1041e-01, -4.3838e-01, -9.6095e-02,  1.1898e-01,\n",
              "                        1.8168e-01,  1.7259e-01,  1.2857e-02,  1.0797e-01,  3.8354e-02,\n",
              "                        1.9323e-01,  4.4077e-02, -1.1501e-01, -7.1217e-01,  8.6235e-02,\n",
              "                       -2.5439e-01, -7.9571e-02, -6.2746e-02,  8.3851e-02,  1.5239e-01,\n",
              "                       -1.3765e-01,  1.7858e-01,  1.7039e-01, -1.2522e-01,  1.1556e-01,\n",
              "                       -2.1022e-01, -9.0594e-02,  6.4726e-02,  1.6713e-01, -4.1923e-02,\n",
              "                       -1.2800e-02, -1.2557e-01, -5.6681e-01, -5.9271e-01,  1.3607e-01,\n",
              "                       -5.3761e-02, -3.6622e-01,  1.5629e-01, -1.1381e-01,  1.4113e-01,\n",
              "                       -3.5159e-01, -1.8212e-01,  1.1203e-02, -3.7961e-01, -3.2818e-01,\n",
              "                        1.1186e-01, -5.1856e-02, -5.8805e-02, -2.7751e-01, -3.1942e-01,\n",
              "                       -2.6997e-01, -5.1195e-01, -2.9919e-01, -1.7359e-01,  7.8006e-02,\n",
              "                        5.7359e-02, -2.5938e-01,  2.2577e-01, -7.7519e-02, -2.9702e-01,\n",
              "                       -5.1417e-01,  3.7490e-02, -1.2077e-02, -5.0619e-01,  1.4972e-01,\n",
              "                        1.0338e-01,  4.1515e-02,  5.2744e-02,  6.2497e-02,  1.3499e-03,\n",
              "                       -2.1143e-01, -1.9765e-02, -1.6839e-01,  1.0339e-01, -3.7091e-02,\n",
              "                        8.4524e-02, -1.6332e-02,  1.3695e-01, -7.9183e-02, -4.4687e-01,\n",
              "                       -4.3366e-01,  2.7877e-01, -8.4485e-01,  1.9251e-01, -1.2578e-01],\n",
              "                      [ 1.8087e-01, -9.8601e-03, -1.1092e-01,  2.4381e-01,  2.1503e-01,\n",
              "                       -9.2891e-02, -1.4670e-02, -5.5690e-02,  9.1975e-02, -3.9040e-01,\n",
              "                       -1.4200e-02, -1.9510e-01,  2.7017e-01,  5.1650e-02, -3.2817e-01,\n",
              "                       -5.2867e-01, -6.3817e-01, -3.3841e-01, -2.2844e-01,  1.7586e-01,\n",
              "                        1.8154e-01,  1.7732e-01,  2.0299e-01, -7.1599e-03,  1.4866e-01,\n",
              "                       -9.5972e-02, -1.3163e-01,  2.5330e-01, -2.6717e-01, -1.3326e-01,\n",
              "                        1.6714e-01, -2.6656e-01,  7.0020e-02,  3.4604e-01,  1.4611e-01,\n",
              "                       -3.6926e-02, -3.9275e-01,  6.6217e-02, -2.4939e-01, -2.8426e-01,\n",
              "                       -2.6149e-02,  1.5500e-01, -4.1100e-01,  1.3476e-01, -3.5093e-01,\n",
              "                       -7.2227e-02, -1.5692e-01, -3.3700e-01, -5.6619e-02,  2.5989e-01,\n",
              "                        2.2112e-01, -2.3426e-01,  1.4437e-01, -7.5772e-02, -3.0182e-01,\n",
              "                        5.2672e-03,  1.8982e-01,  1.2294e-03, -1.3541e-01,  1.3689e-01,\n",
              "                        1.6938e-01, -7.2292e-02,  2.2231e-03, -3.8754e-01,  4.0619e-01,\n",
              "                       -9.7568e-02,  2.0711e-03,  7.5614e-02, -2.9164e-01, -3.8026e-02,\n",
              "                        9.5212e-02, -8.0418e-02, -8.4942e-02, -1.3609e-02, -2.7402e-01,\n",
              "                        1.6091e-01,  7.4374e-02,  7.9874e-02,  3.9388e-02, -5.5141e-01,\n",
              "                        3.0433e-01, -9.8967e-02, -1.6144e-01, -3.5664e-02,  1.0083e-01,\n",
              "                       -2.4235e-01, -2.7339e-01,  2.0214e-01,  4.2327e-01, -5.3488e-02,\n",
              "                        1.3368e-01,  2.1656e-01, -6.6652e-02,  1.3015e-01, -3.4266e-01,\n",
              "                        9.5301e-03, -4.0942e-02,  2.6201e-01, -1.0411e-01, -2.5446e-01],\n",
              "                      [-6.4689e-02, -3.2054e-01, -9.9382e-02, -1.2143e-01,  1.3671e-01,\n",
              "                        5.4615e-02,  6.5457e-02, -1.1755e-01,  2.1442e-02,  1.5937e-01,\n",
              "                        8.2203e-02,  1.3301e-01,  1.2212e-01,  8.1051e-02,  1.1696e-01,\n",
              "                       -1.6305e-01,  1.2250e-01, -4.7347e-01,  6.7627e-02,  1.3213e-01,\n",
              "                        1.6053e-01, -8.9567e-02, -2.1611e-01,  6.0675e-02,  1.7012e-02,\n",
              "                       -2.6685e-01,  9.3466e-02,  1.0515e-01, -7.5707e-02, -8.3160e-02,\n",
              "                       -1.1777e-01, -1.0014e-01, -6.6793e-03,  1.9447e-01, -7.3509e-02,\n",
              "                        1.5178e-01,  1.3191e-01,  6.8697e-02, -2.2193e-01,  1.3161e-01,\n",
              "                        1.1423e-01,  5.1986e-02,  1.1546e-01, -1.1568e-01,  1.5656e-02,\n",
              "                        7.7715e-02,  2.4610e-02, -6.8759e-01, -2.5044e-01,  3.0064e-02,\n",
              "                        1.0547e-01, -2.3787e-02,  1.3705e-01, -9.7998e-02,  1.3514e-01,\n",
              "                       -4.8691e-02,  9.0643e-02, -1.8039e-01, -3.3247e-01, -1.7175e-01,\n",
              "                        1.4691e-01, -1.3739e-01, -5.8644e-02,  2.4273e-01, -2.3486e-01,\n",
              "                       -1.9688e-01, -2.4768e-01, -4.5963e-02, -1.5894e-01,  7.4192e-02,\n",
              "                        1.0291e-01,  7.3784e-02, -1.4276e-01, -8.9685e-02, -3.1446e-01,\n",
              "                        3.0988e-02,  9.0560e-02, -2.6695e-02, -1.8075e-01,  1.9668e-01,\n",
              "                        5.5089e-02, -2.6638e-02, -1.5039e-01, -1.7708e-01, -1.0955e-01,\n",
              "                        2.2870e-01, -1.7192e-01, -1.4233e-01,  8.7548e-02, -1.0864e-01,\n",
              "                        6.6656e-02, -1.2947e-01, -3.7771e-01, -4.7026e-02, -9.7825e-02,\n",
              "                       -5.7566e-01, -4.4391e-02, -4.6808e-02,  2.0987e-01,  9.4153e-02]])),\n",
              "             ('layer3.0.bias',\n",
              "              tensor([-0.0881, -0.2186,  0.4678,  0.4185, -0.0438,  0.1461,  0.0090,  0.3409,\n",
              "                       0.0731, -0.1073]))])"
            ]
          },
          "metadata": {},
          "execution_count": 20
        }
      ]
    },
    {
      "cell_type": "code",
      "source": [
        "torch.save(model.state_dict(),'./neuralnetwork.pth')"
      ],
      "metadata": {
        "id": "k38vIWGb2O5H"
      },
      "execution_count": 21,
      "outputs": []
    }
  ]
}