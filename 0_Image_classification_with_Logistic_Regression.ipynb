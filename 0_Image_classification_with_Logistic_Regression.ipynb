{
  "nbformat": 4,
  "nbformat_minor": 0,
  "metadata": {
    "colab": {
      "provenance": []
    },
    "kernelspec": {
      "name": "python3",
      "display_name": "Python 3"
    },
    "language_info": {
      "name": "python"
    }
  },
  "cells": [
    {
      "cell_type": "markdown",
      "source": [
        "**Import important libereries**"
      ],
      "metadata": {
        "id": "jvSehgIt_EdF"
      }
    },
    {
      "cell_type": "code",
      "source": [
        "import torch\n",
        "import torch.nn as nn\n",
        "import torch.nn.functional as F\n",
        "from torch.utils.data import DataLoader\n",
        "from torchvision import datasets,transforms\n",
        "import matplotlib.pyplot as plt"
      ],
      "metadata": {
        "id": "MUV0XGeF_ETL"
      },
      "execution_count": 2,
      "outputs": []
    },
    {
      "cell_type": "markdown",
      "source": [
        "**Get data ready**"
      ],
      "metadata": {
        "id": "binq8osckNuY"
      }
    },
    {
      "cell_type": "code",
      "source": [
        "train_dataset=datasets.FashionMNIST(root='/dataset',train=True,transform=transforms.ToTensor(),download=True)"
      ],
      "metadata": {
        "id": "yO1e6514_ERI",
        "colab": {
          "base_uri": "https://localhost:8080/"
        },
        "outputId": "b3e9f6dc-615a-4ae7-c44c-17ed105467d9"
      },
      "execution_count": 3,
      "outputs": [
        {
          "output_type": "stream",
          "name": "stdout",
          "text": [
            "Downloading http://fashion-mnist.s3-website.eu-central-1.amazonaws.com/train-images-idx3-ubyte.gz\n",
            "Downloading http://fashion-mnist.s3-website.eu-central-1.amazonaws.com/train-images-idx3-ubyte.gz to /dataset/FashionMNIST/raw/train-images-idx3-ubyte.gz\n"
          ]
        },
        {
          "output_type": "stream",
          "name": "stderr",
          "text": [
            "100%|██████████| 26.4M/26.4M [00:06<00:00, 4.36MB/s]\n"
          ]
        },
        {
          "output_type": "stream",
          "name": "stdout",
          "text": [
            "Extracting /dataset/FashionMNIST/raw/train-images-idx3-ubyte.gz to /dataset/FashionMNIST/raw\n",
            "\n",
            "Downloading http://fashion-mnist.s3-website.eu-central-1.amazonaws.com/train-labels-idx1-ubyte.gz\n",
            "Downloading http://fashion-mnist.s3-website.eu-central-1.amazonaws.com/train-labels-idx1-ubyte.gz to /dataset/FashionMNIST/raw/train-labels-idx1-ubyte.gz\n"
          ]
        },
        {
          "output_type": "stream",
          "name": "stderr",
          "text": [
            "100%|██████████| 29.5k/29.5k [00:00<00:00, 311kB/s]\n"
          ]
        },
        {
          "output_type": "stream",
          "name": "stdout",
          "text": [
            "Extracting /dataset/FashionMNIST/raw/train-labels-idx1-ubyte.gz to /dataset/FashionMNIST/raw\n",
            "\n",
            "Downloading http://fashion-mnist.s3-website.eu-central-1.amazonaws.com/t10k-images-idx3-ubyte.gz\n",
            "Downloading http://fashion-mnist.s3-website.eu-central-1.amazonaws.com/t10k-images-idx3-ubyte.gz to /dataset/FashionMNIST/raw/t10k-images-idx3-ubyte.gz\n"
          ]
        },
        {
          "output_type": "stream",
          "name": "stderr",
          "text": [
            "100%|██████████| 4.42M/4.42M [00:00<00:00, 5.55MB/s]\n"
          ]
        },
        {
          "output_type": "stream",
          "name": "stdout",
          "text": [
            "Extracting /dataset/FashionMNIST/raw/t10k-images-idx3-ubyte.gz to /dataset/FashionMNIST/raw\n",
            "\n",
            "Downloading http://fashion-mnist.s3-website.eu-central-1.amazonaws.com/t10k-labels-idx1-ubyte.gz\n",
            "Downloading http://fashion-mnist.s3-website.eu-central-1.amazonaws.com/t10k-labels-idx1-ubyte.gz to /dataset/FashionMNIST/raw/t10k-labels-idx1-ubyte.gz\n"
          ]
        },
        {
          "output_type": "stream",
          "name": "stderr",
          "text": [
            "100%|██████████| 5.15k/5.15k [00:00<00:00, 4.43MB/s]"
          ]
        },
        {
          "output_type": "stream",
          "name": "stdout",
          "text": [
            "Extracting /dataset/FashionMNIST/raw/t10k-labels-idx1-ubyte.gz to /dataset/FashionMNIST/raw\n",
            "\n"
          ]
        },
        {
          "output_type": "stream",
          "name": "stderr",
          "text": [
            "\n"
          ]
        }
      ]
    },
    {
      "cell_type": "code",
      "source": [
        "test_dataset=datasets.FashionMNIST(root='/dataset',train=False,transform=transforms.ToTensor())"
      ],
      "metadata": {
        "id": "q1JT8YgJ_EPR"
      },
      "execution_count": 4,
      "outputs": []
    },
    {
      "cell_type": "code",
      "source": [
        "train_dataset"
      ],
      "metadata": {
        "id": "w0fFC-c6_ENd",
        "colab": {
          "base_uri": "https://localhost:8080/"
        },
        "outputId": "7153e2ff-9898-476d-e579-cffeaa7a602f"
      },
      "execution_count": 5,
      "outputs": [
        {
          "output_type": "execute_result",
          "data": {
            "text/plain": [
              "Dataset FashionMNIST\n",
              "    Number of datapoints: 60000\n",
              "    Root location: /dataset\n",
              "    Split: Train\n",
              "    StandardTransform\n",
              "Transform: ToTensor()"
            ]
          },
          "metadata": {},
          "execution_count": 5
        }
      ]
    },
    {
      "cell_type": "code",
      "source": [
        "test_dataset"
      ],
      "metadata": {
        "id": "yhWOtyB7_ELh",
        "colab": {
          "base_uri": "https://localhost:8080/"
        },
        "outputId": "dd64db67-7501-43e2-a826-2321b678d082"
      },
      "execution_count": 6,
      "outputs": [
        {
          "output_type": "execute_result",
          "data": {
            "text/plain": [
              "Dataset FashionMNIST\n",
              "    Number of datapoints: 10000\n",
              "    Root location: /dataset\n",
              "    Split: Test\n",
              "    StandardTransform\n",
              "Transform: ToTensor()"
            ]
          },
          "metadata": {},
          "execution_count": 6
        }
      ]
    },
    {
      "cell_type": "code",
      "source": [
        "len(train_dataset)"
      ],
      "metadata": {
        "id": "muo2Ke4Y_EJZ",
        "colab": {
          "base_uri": "https://localhost:8080/"
        },
        "outputId": "1949c6af-783d-412d-d4ea-e83cf19bb9f5"
      },
      "execution_count": 7,
      "outputs": [
        {
          "output_type": "execute_result",
          "data": {
            "text/plain": [
              "60000"
            ]
          },
          "metadata": {},
          "execution_count": 7
        }
      ]
    },
    {
      "cell_type": "markdown",
      "source": [
        "**converting data into batches**"
      ],
      "metadata": {
        "id": "-3nNtjJPlRNV"
      }
    },
    {
      "cell_type": "code",
      "source": [
        "batch_size=64"
      ],
      "metadata": {
        "id": "5hDJNDc9_EHA"
      },
      "execution_count": 8,
      "outputs": []
    },
    {
      "cell_type": "code",
      "source": [
        "train_loader=DataLoader(train_dataset,batch_size=batch_size,shuffle=True)\n",
        "test_loader=DataLoader(test_dataset,batch_size=batch_size,shuffle=False)"
      ],
      "metadata": {
        "id": "kGXUhUrK_EE5"
      },
      "execution_count": 9,
      "outputs": []
    },
    {
      "cell_type": "code",
      "source": [
        "len(list(train_loader))"
      ],
      "metadata": {
        "id": "1wurm4Ry_EAu",
        "colab": {
          "base_uri": "https://localhost:8080/"
        },
        "outputId": "7ce436f7-348c-480f-81f2-abafd050d2b7"
      },
      "execution_count": 10,
      "outputs": [
        {
          "output_type": "execute_result",
          "data": {
            "text/plain": [
              "938"
            ]
          },
          "metadata": {},
          "execution_count": 10
        }
      ]
    },
    {
      "cell_type": "code",
      "source": [
        "len(list(test_loader))"
      ],
      "metadata": {
        "id": "UNMXdW1m_D-I",
        "colab": {
          "base_uri": "https://localhost:8080/"
        },
        "outputId": "24e76ac3-554c-4964-d210-1ed4d099773f"
      },
      "execution_count": 11,
      "outputs": [
        {
          "output_type": "execute_result",
          "data": {
            "text/plain": [
              "157"
            ]
          },
          "metadata": {},
          "execution_count": 11
        }
      ]
    },
    {
      "cell_type": "markdown",
      "source": [
        "**Logistic Regression Model**"
      ],
      "metadata": {
        "id": "m6KuNYJ4l5MZ"
      }
    },
    {
      "cell_type": "code",
      "execution_count": 12,
      "metadata": {
        "id": "Tb3GRX4E-7QU"
      },
      "outputs": [],
      "source": [
        "class LogisticRegression(nn.Module):\n",
        "  def __init__(self,in_dim,n_class):\n",
        "    super().__init__()\n",
        "    self.linear=nn.Linear(in_dim,n_class)\n",
        "  def forward(self,x):\n",
        "    out=self.linear(x)\n",
        "    return out"
      ]
    },
    {
      "cell_type": "code",
      "source": [
        "model=LogisticRegression(28 * 28 ,10)"
      ],
      "metadata": {
        "id": "n7fs-S_mmcP5"
      },
      "execution_count": 13,
      "outputs": []
    },
    {
      "cell_type": "code",
      "source": [
        "model"
      ],
      "metadata": {
        "colab": {
          "base_uri": "https://localhost:8080/"
        },
        "id": "Vm4TrMt2miaA",
        "outputId": "d6d3b0cc-efe9-4617-9c17-7f5df08d2334"
      },
      "execution_count": 14,
      "outputs": [
        {
          "output_type": "execute_result",
          "data": {
            "text/plain": [
              "LogisticRegression(\n",
              "  (linear): Linear(in_features=784, out_features=10, bias=True)\n",
              ")"
            ]
          },
          "metadata": {},
          "execution_count": 14
        }
      ]
    },
    {
      "cell_type": "code",
      "source": [
        "device='cuda' if torch.cuda.is_available() else 'cpu'"
      ],
      "metadata": {
        "id": "D74wYRk3mjSI"
      },
      "execution_count": 15,
      "outputs": []
    },
    {
      "cell_type": "code",
      "source": [
        "device"
      ],
      "metadata": {
        "colab": {
          "base_uri": "https://localhost:8080/",
          "height": 36
        },
        "id": "nUvK-YCUmtf4",
        "outputId": "b396c61b-9afc-4400-913f-673398d8678c"
      },
      "execution_count": 16,
      "outputs": [
        {
          "output_type": "execute_result",
          "data": {
            "text/plain": [
              "'cpu'"
            ],
            "application/vnd.google.colaboratory.intrinsic+json": {
              "type": "string"
            }
          },
          "metadata": {},
          "execution_count": 16
        }
      ]
    },
    {
      "cell_type": "code",
      "source": [
        "model=model.to(device)"
      ],
      "metadata": {
        "id": "Niy8Tuj1muZI"
      },
      "execution_count": 17,
      "outputs": []
    },
    {
      "cell_type": "markdown",
      "source": [
        "**cost function and optimizer**"
      ],
      "metadata": {
        "id": "lhE6Ki38mzTR"
      }
    },
    {
      "cell_type": "code",
      "source": [
        "learning_rate=1e-3"
      ],
      "metadata": {
        "id": "zQh_gEYlmyIo"
      },
      "execution_count": 19,
      "outputs": []
    },
    {
      "cell_type": "code",
      "source": [
        "criterion=nn.CrossEntropyLoss()\n",
        "optimizer=torch.optim.SGD(model.parameters(),lr=learning_rate)"
      ],
      "metadata": {
        "id": "rRx9du2Nm6Oo"
      },
      "execution_count": 20,
      "outputs": []
    },
    {
      "cell_type": "markdown",
      "source": [
        "**Training Loop**"
      ],
      "metadata": {
        "id": "-E2oh8ojnV5V"
      }
    },
    {
      "cell_type": "code",
      "source": [
        "num_epochs=10"
      ],
      "metadata": {
        "id": "Lwo78arMnTvZ"
      },
      "execution_count": 21,
      "outputs": []
    },
    {
      "cell_type": "code",
      "source": [
        "for epoch in range(num_epochs):\n",
        "  print('*' * 10)\n",
        "  print(f'epoch {epoch +1}')\n",
        "  running_loss=0.0\n",
        "  running_acc=0.0\n",
        "  model.train()\n",
        "  for i, data in enumerate(train_loader,1):\n",
        "    img,label=data\n",
        "    img=img.view(img.size(0),-1)\n",
        "    img=img.to(device)\n",
        "    label=label.to(device)\n",
        "    out=model(img)\n",
        "    loss=criterion(out,label)\n",
        "    running_loss +=loss.item()\n",
        "    _,pred =torch.max(out,1)\n",
        "    running_acc +=(pred == label).float().mean()\n",
        "    optimizer.zero_grad()\n",
        "    loss.backward()\n",
        "    optimizer.step()\n",
        "    if i % 300 == 0:\n",
        "        print(f'[{epoch+1}/{num_epochs}] loss: {running_loss/i:.6f},acc: {running_acc/i:.6f}')\n",
        "  print(f'Finish {epoch+1} epoch ,loss: {running_loss/i:.6f},acc: {running_acc/i:.6f}')"
      ],
      "metadata": {
        "colab": {
          "base_uri": "https://localhost:8080/"
        },
        "id": "OTls7xPwnavo",
        "outputId": "0a8a3095-7eb2-4dca-9509-b305c55d91a3"
      },
      "execution_count": 28,
      "outputs": [
        {
          "output_type": "stream",
          "name": "stdout",
          "text": [
            "**********\n",
            "epoch 1\n",
            "[1/10] loss: 2.001634,acc: 0.436823\n",
            "[1/10] loss: 1.823490,acc: 0.530990\n",
            "[1/10] loss: 1.694308,acc: 0.572361\n",
            "Finish 1 epoch ,loss: 1.680066,acc: 0.576059\n",
            "**********\n",
            "epoch 2\n",
            "[2/10] loss: 1.277026,acc: 0.666667\n",
            "[2/10] loss: 1.231616,acc: 0.671562\n",
            "[2/10] loss: 1.195601,acc: 0.674201\n",
            "Finish 2 epoch ,loss: 1.190762,acc: 0.675390\n",
            "**********\n",
            "epoch 3\n",
            "[3/10] loss: 1.062781,acc: 0.684635\n",
            "[3/10] loss: 1.036531,acc: 0.691484\n",
            "[3/10] loss: 1.020652,acc: 0.695347\n",
            "Finish 3 epoch ,loss: 1.017910,acc: 0.695962\n",
            "**********\n",
            "epoch 4\n",
            "[4/10] loss: 0.945517,acc: 0.709375\n",
            "[4/10] loss: 0.937404,acc: 0.711797\n",
            "[4/10] loss: 0.928048,acc: 0.714514\n",
            "Finish 4 epoch ,loss: 0.926490,acc: 0.715119\n",
            "**********\n",
            "epoch 5\n",
            "[5/10] loss: 0.881768,acc: 0.727865\n",
            "[5/10] loss: 0.875513,acc: 0.728255\n",
            "[5/10] loss: 0.868044,acc: 0.730035\n",
            "Finish 5 epoch ,loss: 0.867747,acc: 0.729744\n",
            "**********\n",
            "epoch 6\n",
            "[6/10] loss: 0.839902,acc: 0.737969\n",
            "[6/10] loss: 0.834751,acc: 0.739505\n",
            "[6/10] loss: 0.826370,acc: 0.741701\n",
            "Finish 6 epoch ,loss: 0.825906,acc: 0.742004\n",
            "**********\n",
            "epoch 7\n",
            "[7/10] loss: 0.808111,acc: 0.748385\n",
            "[7/10] loss: 0.799688,acc: 0.748359\n",
            "[7/10] loss: 0.793812,acc: 0.751632\n",
            "Finish 7 epoch ,loss: 0.793531,acc: 0.752032\n",
            "**********\n",
            "epoch 8\n",
            "[8/10] loss: 0.769870,acc: 0.758073\n",
            "[8/10] loss: 0.770836,acc: 0.758307\n",
            "[8/10] loss: 0.769137,acc: 0.758438\n",
            "Finish 8 epoch ,loss: 0.767981,acc: 0.758679\n",
            "**********\n",
            "epoch 9\n",
            "[9/10] loss: 0.755849,acc: 0.760365\n",
            "[9/10] loss: 0.752748,acc: 0.761510\n",
            "[9/10] loss: 0.747730,acc: 0.764583\n",
            "Finish 9 epoch ,loss: 0.746786,acc: 0.765242\n",
            "**********\n",
            "epoch 10\n",
            "[10/10] loss: 0.736205,acc: 0.767656\n",
            "[10/10] loss: 0.732830,acc: 0.769505\n",
            "[10/10] loss: 0.728385,acc: 0.771163\n",
            "Finish 10 epoch ,loss: 0.728759,acc: 0.770905\n"
          ]
        }
      ]
    },
    {
      "cell_type": "markdown",
      "source": [
        "**Evaluate the model**"
      ],
      "metadata": {
        "id": "AiIv0kYLsTdw"
      }
    },
    {
      "cell_type": "code",
      "source": [
        "model.eval()\n",
        "eval_loss=0\n",
        "eval_acc=0\n",
        "for data in test_loader:\n",
        "  img,label=data\n",
        "  img=img.view(img.size(0),-1)\n",
        "  img=img.to(device)\n",
        "  label=label.to(device)\n",
        "  with torch.no_grad():\n",
        "    out=model(img)\n",
        "    loss=criterion(out,label)\n",
        "    eval_loss +=loss.item()\n",
        "    _,pred=torch.max(out,1)\n",
        "    eval_acc +=(pred == label).float().mean()\n",
        "print(f'Test Loss: {eval_loss/len(test_loader):.6f}, Acc: {eval_acc/len(test_loader):.6f}')\n"
      ],
      "metadata": {
        "colab": {
          "base_uri": "https://localhost:8080/"
        },
        "id": "7ooq3GPqqqT7",
        "outputId": "26fcfa34-c125-4b58-c591-f898bb2fcfd9"
      },
      "execution_count": 32,
      "outputs": [
        {
          "output_type": "stream",
          "name": "stdout",
          "text": [
            "Test Loss: 0.737522, Acc: 0.758061\n"
          ]
        }
      ]
    },
    {
      "cell_type": "markdown",
      "source": [
        "**Visulizing Model**"
      ],
      "metadata": {
        "id": "LML_lZsRtqLl"
      }
    },
    {
      "cell_type": "code",
      "source": [
        "images,labels=next(iter(test_loader))\n",
        "images=images.reshape(-1,28*28).to(device)\n",
        "labels=labels.to(device)\n",
        "outputs=model(images)\n",
        "_,predicted=torch.max(outputs,1)\n",
        "fig,ax =plt.subplots(1,5,figsize=(15,3))\n",
        "for i in range(5):\n",
        "  ax[i].imshow(images[i].reshape(28,28).cpu(),cmap='gray')\n",
        "  ax[i].set_title(f'True: {labels[i].item()},pred: {predicted[i].item()}')\n",
        "  ax[i].axis('off')\n",
        "plt.show()\n"
      ],
      "metadata": {
        "colab": {
          "base_uri": "https://localhost:8080/",
          "height": 228
        },
        "id": "iqOYLUCctaCs",
        "outputId": "2b5ab248-4823-4de7-b0e5-f6ae67a78e9e"
      },
      "execution_count": 35,
      "outputs": [
        {
          "output_type": "display_data",
          "data": {
            "text/plain": [
              "<Figure size 1500x300 with 5 Axes>"
            ],
            "image/png": "[encoded data removed]"
          },
          "metadata": {}
        }
      ]
    },
    {
      "cell_type": "markdown",
      "source": [
        "**save model**"
      ],
      "metadata": {
        "id": "auOOrChfvAzF"
      }
    },
    {
      "cell_type": "code",
      "source": [
        "model.state_dict()"
      ],
      "metadata": {
        "colab": {
          "base_uri": "https://localhost:8080/"
        },
        "id": "c-wmmJv2u5W9",
        "outputId": "77880d32-3f5d-4477-9622-88498476ec6f"
      },
      "execution_count": 36,
      "outputs": [
        {
          "output_type": "execute_result",
          "data": {
            "text/plain": [
              "OrderedDict([('linear.weight',\n",
              "              tensor([[-0.0140,  0.0124, -0.0140,  ...,  0.0041, -0.0003, -0.0116],\n",
              "                      [ 0.0103,  0.0282, -0.0067,  ...,  0.0208, -0.0281, -0.0236],\n",
              "                      [-0.0264,  0.0277, -0.0091,  ...,  0.0327, -0.0123,  0.0172],\n",
              "                      ...,\n",
              "                      [ 0.0027,  0.0090,  0.0250,  ..., -0.0187,  0.0068,  0.0102],\n",
              "                      [-0.0221, -0.0089,  0.0213,  ..., -0.0317, -0.0031, -0.0306],\n",
              "                      [-0.0249,  0.0307,  0.0328,  ...,  0.0093,  0.0189,  0.0314]])),\n",
              "             ('linear.bias',\n",
              "              tensor([-0.0323,  0.0022, -0.0605, -0.0259, -0.1445,  0.2994,  0.0484, -0.0082,\n",
              "                      -0.0869, -0.0887]))])"
            ]
          },
          "metadata": {},
          "execution_count": 36
        }
      ]
    },
    {
      "cell_type": "code",
      "source": [
        "torch.save(model.state_dict(),'./LogisticRegression.pth')"
      ],
      "metadata": {
        "id": "bSNTKzYNvFIl"
      },
      "execution_count": 37,
      "outputs": []
    },
    {
      "cell_type": "code",
      "source": [],
      "metadata": {
        "id": "v9zOG0xGvOPF"
      },
      "execution_count": null,
      "outputs": []
    }
  ]
}